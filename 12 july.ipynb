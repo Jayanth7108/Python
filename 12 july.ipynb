{
 "cells": [
  {
   "cell_type": "markdown",
   "metadata": {},
   "source": [
    "### regular expression \n",
    "*pattern matching \n",
    "*patterns(re)package\n",
    "* [0-9]-> any digit matching \n",
    "\n",
    "     >two digit number(^[0-9]{2}$/"
   ]
  },
  {
   "cell_type": "code",
   "execution_count": 1,
   "metadata": {},
   "outputs": [
    {
     "name": "stdout",
     "output_type": "stream",
     "text": [
      "True\n",
      "False\n"
     ]
    }
   ],
   "source": [
    "#function to test two digit number matching \n",
    "import re\n",
    "def twodigitmatching(n):\n",
    "    pattern = '^[0-9][2]$'\n",
    "    n=str(n)\n",
    "    if re.match(pattern,n):\n",
    "        return True\n",
    "    return False\n",
    "print(twodigitmatching(12))\n",
    "print(twodigitmatching(123))\n"
   ]
  },
  {
   "cell_type": "code",
   "execution_count": 2,
   "metadata": {},
   "outputs": [
    {
     "name": "stdout",
     "output_type": "stream",
     "text": [
      "True\n",
      "False\n"
     ]
    }
   ],
   "source": [
    "#function to define to test username  having 8 charecters \n",
    "#uppercase and lower case\n",
    "def testusername(s):\n",
    "    pattern = '^[a-zA-Z]{8}$'\n",
    "    if re.match(pattern,s):\n",
    "        return True\n",
    "    return False\n",
    "print(testusername('gitameee'))\n",
    "print(testusername('gitam'))\n"
   ]
  },
  {
   "cell_type": "markdown",
   "metadata": {},
   "source": [
    "### regular expression to match indian mobile number\n",
    "*10 digits\n",
    "     (first digit will be [6-9] and remaining 9 digits will be [0-9])\n",
    " *ex-9876543210\n",
    "*re- ^[6-9][0-9]{9}$\n",
    " \n",
    "* Ex:- 09876543213\n",
    "\n",
    "* Re:- ^[0][6-9][0-9]{9}$\n",
    "\n",
    "* Ex:- +919876543210\n",
    "\n",
    "* Re:- ^[+][9][1][6-9][0-9]{9}$\n"
   ]
  },
  {
   "cell_type": "code",
   "execution_count": 3,
   "metadata": {},
   "outputs": [
    {
     "data": {
      "text/plain": [
       "True"
      ]
     },
     "execution_count": 3,
     "metadata": {},
     "output_type": "execute_result"
    }
   ],
   "source": [
    "#function to validate the indian number\n",
    "import re\n",
    "def phonenumbervalidation(phone):\n",
    "   pattern='^[6-9][0-9]{9}$|^[0][6-9][0-9]{9}$|^[+][9][1][6-9][0-9]{9}$'\n",
    "   phone=str(phone)\n",
    "   if re.match(pattern,phone):\n",
    "       return True\n",
    "   return False\n",
    "phonenumbervalidation('+918876543665')"
   ]
  },
  {
   "cell_type": "markdown",
   "metadata": {},
   "source": [
    "* regular expression to validate a roll number\n",
    "  \n",
    "  ex- 1521A0501\n",
    "  \n",
    "  ex- 1521A0109\n",
    "  \n",
    "  EX- 1521A0499\n",
    "\n",
    "* regular expression to validate the password\n",
    "  \n",
    "  *parameters: len min of 6 charecters and max of 15 charecters \n",
    "  \n",
    "  *accept lowercase,uppercase,digits.spl char(@#)"
   ]
  },
  {
   "cell_type": "code",
   "execution_count": 4,
   "metadata": {},
   "outputs": [
    {
     "name": "stdout",
     "output_type": "stream",
     "text": [
      "True\n"
     ]
    }
   ],
   "source": [
    "#Function to validate the rollnumber\n",
    "def rollnumbervalidation(roll):\n",
    "   pattern='^[1][5][2][1][A][0][1-5][0-9][1-9]$'\n",
    "   roll=str(roll)\n",
    "   if re.match(pattern,roll):\n",
    "       return True\n",
    "   return False\n",
    "print(rollnumbervalidation('1521A0501'))\n"
   ]
  },
  {
   "cell_type": "code",
   "execution_count": 5,
   "metadata": {},
   "outputs": [
    {
     "name": "stdout",
     "output_type": "stream",
     "text": [
      "True\n"
     ]
    }
   ],
   "source": [
    "#function to validate password\n",
    "def passwordvalidation(password):\n",
    "   pattern='^[0-9a-zA-z@#!]{8,15}$'\n",
    "   password=str(password)\n",
    "   if re.match(pattern,password):\n",
    "       return True\n",
    "   return False\n",
    "print(passwordvalidation('passworD@123'))"
   ]
  },
  {
   "cell_type": "markdown",
   "metadata": {},
   "source": [
    "### EMAIL ID VALIDATION USING REGULAR EXPRESSION \n",
    "\n",
    "*EXAMPLE : username@domainname.com\n",
    "\n",
    "*username :\n",
    "- Username :-\n",
    "       - length will be [6,15]\n",
    "       - no spls characters apart from underscore(_)\n",
    "       - should not begin and ends with underscore(_)\n",
    "       - characters Set : All digits and lower case\n",
    "- Extension:-\n",
    "       - length will be [2,4]\n",
    "       - no spl characters\n",
    "       - character set : lower case characters\n",
    "! domainname:-\n",
    "     1.length will be[3-18] <br>\n",
    "     2.no spl characters <br>\n",
    "     3.characters set:-all digits are lowercase charcters <br>"
   ]
  },
  {
   "cell_type": "code",
   "execution_count": 10,
   "metadata": {},
   "outputs": [
    {
     "data": {
      "text/plain": [
       "True"
      ]
     },
     "execution_count": 10,
     "metadata": {},
     "output_type": "execute_result"
    }
   ],
   "source": [
    "def emailidvalidation(email):\n",
    "    pattern='^[0-9a-z][0-9a-z_]{5,14}[@][a-z0-9]{3,18}[.][a-z]{2,4}$'\n",
    "    if re.match(pattern,email):\n",
    "        return True\n",
    "    return False\n",
    "emailidvalidation('jaynthtalasi@gmail.com')"
   ]
  },
  {
   "cell_type": "code",
   "execution_count": null,
   "metadata": {},
   "outputs": [],
   "source": []
  }
 ],
 "metadata": {
  "kernelspec": {
   "display_name": "Python 3",
   "language": "python",
   "name": "python3"
  },
  "language_info": {
   "codemirror_mode": {
    "name": "ipython",
    "version": 3
   },
   "file_extension": ".py",
   "mimetype": "text/x-python",
   "name": "python",
   "nbconvert_exporter": "python",
   "pygments_lexer": "ipython3",
   "version": "3.7.3"
  }
 },
 "nbformat": 4,
 "nbformat_minor": 2
}
