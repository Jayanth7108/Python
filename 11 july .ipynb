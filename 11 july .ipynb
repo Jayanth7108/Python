{
 "cells": [
  {
   "cell_type": "markdown",
   "metadata": {},
   "source": [
    "### standard libraries\n",
    "\n",
    " ->file I/O..\n",
    " ->regular expression .\n",
    " ->date time..\n",
    " ->math numerical and mathematical ."
   ]
  },
  {
   "cell_type": "markdown",
   "metadata": {},
   "source": [
    "### file handling in python\n",
    "\n",
    "->file.document containing information resides on the permanent storage. <bd>\n",
    "->different tyypes of files:- txt,foc,pdf,csv and etc <br>\n",
    "->input-keyboard <br>\n",
    "->output--file <br>\n",
    "\n",
    "### modules of the file I/O\n",
    "\n",
    "->'w'--this mode is used to file writing <br>\n",
    "\n",
    "      --if the file is not present it creates the file and write the data into it. <br> "
   ]
  },
  {
   "cell_type": "code",
   "execution_count": 26,
   "metadata": {},
   "outputs": [
    {
     "name": "stdout",
     "output_type": "stream",
     "text": [
      "file is created and data is written\n"
     ]
    }
   ],
   "source": [
    "#function to create a FILE AND WRITE to the file \n",
    "def createfile(filename):\n",
    "    f=open(filename,'w')\n",
    "    for i in range(10):\n",
    "        f.write('this is %d line \\n'%i)\n",
    "    print(\"file is created and data is written\")\n",
    "    return\n",
    "createfile('file.txt')"
   ]
  },
  {
   "cell_type": "code",
   "execution_count": 27,
   "metadata": {},
   "outputs": [
    {
     "name": "stdout",
     "output_type": "stream",
     "text": [
      " Volume in drive C has no label.\n",
      " Volume Serial Number is F2D5-8127\n",
      "\n",
      " Directory of C:\\Users\\207\n",
      "\n",
      "07/11/2019  10:42 AM    <DIR>          .\n",
      "07/11/2019  10:42 AM    <DIR>          ..\n",
      "06/21/2019  08:01 PM    <DIR>          .anaconda\n",
      "04/30/2010  12:33 AM               145 .appletviewer\n",
      "11/02/2017  03:43 PM                 0 .cdtclient\n",
      "06/21/2019  11:10 PM    <DIR>          .conda\n",
      "06/21/2019  08:03 PM                43 .condarc\n",
      "03/08/2017  09:41 AM    <DIR>          .IdeaIC2016.3\n",
      "07/11/2019  09:15 AM    <DIR>          .ipynb_checkpoints\n",
      "06/21/2019  08:45 PM    <DIR>          .ipython\n",
      "06/24/2019  04:00 PM    <DIR>          .jupyter\n",
      "06/28/2019  09:21 PM    <DIR>          .matplotlib\n",
      "02/20/2017  10:37 AM    <DIR>          .nbi\n",
      "11/22/2018  11:07 AM    <DIR>          .oracle_jre_usage\n",
      "04/21/2017  09:52 AM                 0 ++.txt\n",
      "07/10/2019  03:45 PM            10,337 10th july .ipynb\n",
      "07/10/2019  11:10 AM             1,282 11 10th july aSSES.ipynb\n",
      "07/11/2019  10:42 AM            10,268 11 july .ipynb\n",
      "07/06/2019  12:48 PM             5,976 6th july 2019.ipynb\n",
      "07/08/2019  09:50 AM             5,976 6th july 2019-Copy1.ipynb\n",
      "07/08/2019  03:54 PM             9,702 8th july .ipynb\n",
      "07/09/2019  10:56 AM             5,505 9-july-2019.ipynb\n",
      "07/09/2019  03:52 PM             4,734 9th july jay.ipynb\n",
      "07/10/2019  04:50 PM             4,231 assessment.ipynb\n",
      "11/22/2016  04:06 PM    <DIR>          Contacts\n",
      "06/27/2019  05:33 PM    <DIR>          data\n",
      "06/27/2019  08:37 PM             6,612 day 10.ipynb\n",
      "06/28/2019  10:25 PM             7,532 day 11.ipynb\n",
      "06/29/2019  08:03 PM             3,094 day 12.ipynb\n",
      "06/21/2019  10:25 PM             2,847 day 5.ipynb\n",
      "06/24/2019  05:56 PM             6,607 day 7.ipynb\n",
      "06/25/2019  10:24 PM             6,725 day 8.ipynb\n",
      "06/26/2019  08:55 PM             8,789 day 9.ipynb\n",
      "07/08/2019  03:18 PM    <DIR>          Desktop\n",
      "01/10/2019  09:40 AM    <DIR>          Documents\n",
      "03/19/2019  02:29 PM    <DIR>          Downloads\n",
      "11/22/2016  04:06 PM    <DIR>          Favorites\n",
      "07/11/2019  10:55 AM               170 file.txt\n",
      "07/11/2019  10:54 AM               220 file1.txt\n",
      "06/27/2019  04:28 PM                72 file2.txt\n",
      "06/27/2019  04:22 PM               207 guru99.txt\n",
      "03/08/2017  10:18 AM    <DIR>          IdeaProjects\n",
      "01/11/2019  03:41 PM    <DIR>          Links\n",
      "11/22/2016  04:06 PM    <DIR>          Music\n",
      "11/28/2018  03:47 PM    <DIR>          Pictures\n",
      "11/22/2016  04:06 PM    <DIR>          Saved Games\n",
      "04/26/2018  11:58 AM    <DIR>          Searches\n",
      "06/21/2019  09:29 PM             1,040 Untitled.ipynb\n",
      "06/22/2019  03:22 PM               669 Untitled1.ipynb\n",
      "06/22/2019  09:01 PM             3,388 Untitled2.ipynb\n",
      "06/22/2019  08:43 PM             1,755 Untitled3.ipynb\n",
      "06/25/2019  03:00 PM               555 Untitled4.ipynb\n",
      "11/22/2016  04:06 PM    <DIR>          Videos\n",
      "11/13/2018  02:29 PM    <DIR>          workspace\n",
      "              29 File(s)        108,481 bytes\n",
      "              25 Dir(s)  76,386,586,624 bytes free\n"
     ]
    }
   ],
   "source": [
    "ls\n"
   ]
  },
  {
   "cell_type": "code",
   "execution_count": 19,
   "metadata": {},
   "outputs": [
    {
     "name": "stdout",
     "output_type": "stream",
     "text": [
      "file is created and data is written\n"
     ]
    }
   ],
   "source": [
    "def createfile(filename):\n",
    "    f=open(filename,'w')\n",
    "    f.write('testing\\n')\n",
    "    print(\"file is created and data is written\")\n",
    "    return\n",
    "createfile('file.txt')"
   ]
  },
  {
   "cell_type": "code",
   "execution_count": 30,
   "metadata": {},
   "outputs": [
    {
     "name": "stdout",
     "output_type": "stream",
     "text": [
      "file is created and data is written\n"
     ]
    }
   ],
   "source": [
    "def appenddata(filename):\n",
    "    f=open(filename,'a')\n",
    "    for i in range(10):\n",
    "        f.write('this is %d line\\n '%i)\n",
    "    print(\"file is created and data is written\")\n",
    "    return\n",
    "appenddata('file1.txt')"
   ]
  },
  {
   "cell_type": "code",
   "execution_count": 35,
   "metadata": {},
   "outputs": [
    {
     "name": "stdout",
     "output_type": "stream",
     "text": [
      "file created and data is written\n"
     ]
    }
   ],
   "source": [
    "def appenddata(filename):\n",
    "    f=open(filename,'a')\n",
    "    f.write(\"new line1\\n\")\n",
    "    f.write(\"new line2\\n\")\n",
    "    print(\"file created and data is written\")\n",
    "    f.close()\n",
    "    return\n",
    "appenddata('file1.txt')"
   ]
  },
  {
   "cell_type": "code",
   "execution_count": 36,
   "metadata": {},
   "outputs": [
    {
     "name": "stdout",
     "output_type": "stream",
     "text": [
      "testing\n",
      "new line1\n",
      "new line2\n",
      "this is 0 line\n",
      " this is 1 line\n",
      " this is 2 line\n",
      " this is 3 line\n",
      " this is 4 line\n",
      " this is 5 line\n",
      " this is 6 line\n",
      " this is 7 line\n",
      " this is 8 line\n",
      " this is 9 line\n",
      " new line1\n",
      "new line2\n",
      "data to the file\n",
      "new line1\n",
      "new line2\n",
      "\n"
     ]
    }
   ],
   "source": [
    "#function to read the file\n",
    "def readfiledata(filename):\n",
    "    f=open(filename,'r')\n",
    "    if f.mode == 'r':\n",
    "        x = f.read()\n",
    "        print(x)\n",
    "    f.close()\n",
    "    return\n",
    "readfiledata('file1.txt')"
   ]
  },
  {
   "cell_type": "code",
   "execution_count": 34,
   "metadata": {},
   "outputs": [
    {
     "name": "stdout",
     "output_type": "stream",
     "text": [
      "enter the namefile1.txt\n",
      "enter the mode of the filer\n",
      "testing\n",
      "new line1\n",
      "new line2\n",
      "this is 0 line\n",
      " this is 1 line\n",
      " this is 2 line\n",
      " this is 3 line\n",
      " this is 4 line\n",
      " this is 5 line\n",
      " this is 6 line\n",
      " this is 7 line\n",
      " this is 8 line\n",
      " this is 9 line\n",
      " new line1\n",
      "new line2\n",
      "data to the file\n",
      "\n"
     ]
    }
   ],
   "source": [
    "#function to read file\n",
    "def fileoperations(filename,mode):\n",
    "    with open(filename,mode) as f:\n",
    "        if f.mode=='r':\n",
    "            data=f.read()\n",
    "            print(data)\n",
    "        elif f.mode=='a':\n",
    "            f.write('data to the file\\n')\n",
    "            print('the data successfully written')\n",
    "    f.close()\n",
    "    return\n",
    "filename=input('enter the name')\n",
    "mode=input('enter the mode of the file')\n",
    "fileoperations(filename,mode)\n"
   ]
  },
  {
   "cell_type": "code",
   "execution_count": 37,
   "metadata": {},
   "outputs": [
    {
     "name": "stdout",
     "output_type": "stream",
     "text": [
      "enter the filename:file1.txt\n",
      "enter the word: this\n"
     ]
    },
    {
     "data": {
      "text/plain": [
       "10"
      ]
     },
     "execution_count": 37,
     "metadata": {},
     "output_type": "execute_result"
    }
   ],
   "source": [
    "#data analysis\n",
    "#word count program\n",
    "def wordcount(filename,word):\n",
    "    with open(filename,'r') as f:\n",
    "        if f.mode=='r':\n",
    "            x=f.read()\n",
    "            li=x.split()\n",
    "    cnt=li.count(word)\n",
    "    return cnt\n",
    "filename=input('enter the filename:')\n",
    "word=input('enter the word: ')\n",
    "wordcount(filename,word)"
   ]
  },
  {
   "cell_type": "code",
   "execution_count": 38,
   "metadata": {},
   "outputs": [
    {
     "name": "stdout",
     "output_type": "stream",
     "text": [
      "enterthe filename:file1.txt\n"
     ]
    },
    {
     "data": {
      "text/plain": [
       "245"
      ]
     },
     "execution_count": 38,
     "metadata": {},
     "output_type": "execute_result"
    }
   ],
   "source": [
    "def charcount(filename):\n",
    "    with open(filename,'r') as f:\n",
    "        if f.mode=='r':\n",
    "            x=f.read()\n",
    "            li=list(x)\n",
    "return len(li)\n",
    "filename=input('enterthe filename:')\n",
    "charcount(filename)\n",
    "   "
   ]
  },
  {
   "cell_type": "code",
   "execution_count": 39,
   "metadata": {},
   "outputs": [
    {
     "name": "stdout",
     "output_type": "stream",
     "text": [
      "entert the filename:file1.txt\n"
     ]
    },
    {
     "data": {
      "text/plain": [
       "19"
      ]
     },
     "execution_count": 39,
     "metadata": {},
     "output_type": "execute_result"
    }
   ],
   "source": [
    "def countoflines(filename):\n",
    "    with open(filename,'r') as f:\n",
    "        if f.mode=='r':\n",
    "            x=f.read()\n",
    "            li=x.split(\"\\n\")\n",
    "    return len(li)\n",
    "filename=input('entert the filename:')\n",
    "countoflines(filename)"
   ]
  },
  {
   "cell_type": "code",
   "execution_count": 47,
   "metadata": {},
   "outputs": [
    {
     "name": "stdout",
     "output_type": "stream",
     "text": [
      "enter the filename: file1.txt\n"
     ]
    },
    {
     "data": {
      "text/plain": [
       "'uppercase0,lowercase162'"
      ]
     },
     "execution_count": 47,
     "metadata": {},
     "output_type": "execute_result"
    }
   ],
   "source": [
    "def casecount(filename):\n",
    "    cntlower=0\n",
    "    cntupper=0\n",
    "    with open(filename,'r') as f:\n",
    "        if f.mode=='r':\n",
    "            x=f.read()\n",
    "            li=list(x)\n",
    "    for i in li:\n",
    "        if i.isupper():\n",
    "            cntupper+=1\n",
    "        elif i.islower():\n",
    "            cntlower+=1\n",
    "    output='uppercase{0},lowercase{1}'.format(cntupper,cntlower)\n",
    "    return output\n",
    "filename=input('enter the filename: ')\n",
    "casecount(filename)"
   ]
  },
  {
   "cell_type": "markdown",
   "metadata": {},
   "source": [
    "###math,random,os "
   ]
  },
  {
   "cell_type": "code",
   "execution_count": 48,
   "metadata": {},
   "outputs": [
    {
     "name": "stdout",
     "output_type": "stream",
     "text": [
      " Volume in drive C has no label.\n",
      " Volume Serial Number is F2D5-8127\n",
      "\n",
      " Directory of C:\\Users\\207\n",
      "\n",
      "07/11/2019  12:34 PM    <DIR>          .\n",
      "07/11/2019  12:34 PM    <DIR>          ..\n",
      "06/21/2019  08:01 PM    <DIR>          .anaconda\n",
      "04/30/2010  12:33 AM               145 .appletviewer\n",
      "11/02/2017  03:43 PM                 0 .cdtclient\n",
      "06/21/2019  11:10 PM    <DIR>          .conda\n",
      "06/21/2019  08:03 PM                43 .condarc\n",
      "03/08/2017  09:41 AM    <DIR>          .IdeaIC2016.3\n",
      "07/11/2019  09:15 AM    <DIR>          .ipynb_checkpoints\n",
      "06/21/2019  08:45 PM    <DIR>          .ipython\n",
      "06/24/2019  04:00 PM    <DIR>          .jupyter\n",
      "06/28/2019  09:21 PM    <DIR>          .matplotlib\n",
      "02/20/2017  10:37 AM    <DIR>          .nbi\n",
      "11/22/2018  11:07 AM    <DIR>          .oracle_jre_usage\n",
      "04/21/2017  09:52 AM                 0 ++.txt\n",
      "07/10/2019  03:45 PM            10,337 10th july .ipynb\n",
      "07/10/2019  11:10 AM             1,282 11 10th july aSSES.ipynb\n",
      "07/11/2019  12:34 PM            12,775 11 july .ipynb\n",
      "07/06/2019  12:48 PM             5,976 6th july 2019.ipynb\n",
      "07/08/2019  09:50 AM             5,976 6th july 2019-Copy1.ipynb\n",
      "07/08/2019  03:54 PM             9,702 8th july .ipynb\n",
      "07/09/2019  10:56 AM             5,505 9-july-2019.ipynb\n",
      "07/09/2019  03:52 PM             4,734 9th july jay.ipynb\n",
      "07/10/2019  04:50 PM             4,231 assessment.ipynb\n",
      "11/22/2016  04:06 PM    <DIR>          Contacts\n",
      "06/27/2019  05:33 PM    <DIR>          data\n",
      "06/27/2019  08:37 PM             6,612 day 10.ipynb\n",
      "06/28/2019  10:25 PM             7,532 day 11.ipynb\n",
      "06/29/2019  08:03 PM             3,094 day 12.ipynb\n",
      "06/21/2019  10:25 PM             2,847 day 5.ipynb\n",
      "06/24/2019  05:56 PM             6,607 day 7.ipynb\n",
      "06/25/2019  10:24 PM             6,725 day 8.ipynb\n",
      "06/26/2019  08:55 PM             8,789 day 9.ipynb\n",
      "07/08/2019  03:18 PM    <DIR>          Desktop\n",
      "01/10/2019  09:40 AM    <DIR>          Documents\n",
      "03/19/2019  02:29 PM    <DIR>          Downloads\n",
      "11/22/2016  04:06 PM    <DIR>          Favorites\n",
      "07/11/2019  11:41 AM                 9 file.txt\n",
      "07/11/2019  11:49 AM               263 file1.txt\n",
      "07/11/2019  10:59 AM                12 file2.txt\n",
      "06/27/2019  04:22 PM               207 guru99.txt\n",
      "03/08/2017  10:18 AM    <DIR>          IdeaProjects\n",
      "01/11/2019  03:41 PM    <DIR>          Links\n",
      "11/22/2016  04:06 PM    <DIR>          Music\n",
      "11/28/2018  03:47 PM    <DIR>          Pictures\n",
      "11/22/2016  04:06 PM    <DIR>          Saved Games\n",
      "04/26/2018  11:58 AM    <DIR>          Searches\n",
      "06/21/2019  09:29 PM             1,040 Untitled.ipynb\n",
      "06/22/2019  03:22 PM               669 Untitled1.ipynb\n",
      "06/22/2019  09:01 PM             3,388 Untitled2.ipynb\n",
      "06/22/2019  08:43 PM             1,755 Untitled3.ipynb\n",
      "06/25/2019  03:00 PM               555 Untitled4.ipynb\n",
      "11/22/2016  04:06 PM    <DIR>          Videos\n",
      "11/13/2018  02:29 PM    <DIR>          workspace\n",
      "              29 File(s)        110,810 bytes\n",
      "              25 Dir(s)  76,389,752,832 bytes free\n"
     ]
    }
   ],
   "source": [
    "ls\n"
   ]
  },
  {
   "cell_type": "code",
   "execution_count": 50,
   "metadata": {},
   "outputs": [
    {
     "name": "stdout",
     "output_type": "stream",
     "text": [
      "C:\\Users\n"
     ]
    }
   ],
   "source": [
    "cd ..\n"
   ]
  },
  {
   "cell_type": "code",
   "execution_count": 51,
   "metadata": {},
   "outputs": [
    {
     "ename": "NameError",
     "evalue": "name 'os' is not defined",
     "output_type": "error",
     "traceback": [
      "\u001b[1;31m---------------------------------------------------------------------------\u001b[0m",
      "\u001b[1;31mNameError\u001b[0m                                 Traceback (most recent call last)",
      "\u001b[1;32m<ipython-input-51-f475bf83bbb0>\u001b[0m in \u001b[0;36m<module>\u001b[1;34m\u001b[0m\n\u001b[1;32m----> 1\u001b[1;33m \u001b[0mli\u001b[0m\u001b[1;33m=\u001b[0m\u001b[0mos\u001b[0m\u001b[1;33m.\u001b[0m\u001b[0mscandir\u001b[0m\u001b[1;33m(\u001b[0m\u001b[1;34m'git/'\u001b[0m\u001b[1;33m)\u001b[0m\u001b[1;33m\u001b[0m\u001b[1;33m\u001b[0m\u001b[0m\n\u001b[0m\u001b[0;32m      2\u001b[0m \u001b[1;32mfor\u001b[0m \u001b[0mi\u001b[0m \u001b[1;32min\u001b[0m \u001b[0mli\u001b[0m\u001b[1;33m:\u001b[0m\u001b[1;33m\u001b[0m\u001b[1;33m\u001b[0m\u001b[0m\n\u001b[0;32m      3\u001b[0m     \u001b[0mprint\u001b[0m\u001b[1;33m(\u001b[0m\u001b[0mi0\u001b[0m\u001b[1;33m)\u001b[0m\u001b[1;33m\u001b[0m\u001b[1;33m\u001b[0m\u001b[0m\n",
      "\u001b[1;31mNameError\u001b[0m: name 'os' is not defined"
     ]
    }
   ],
   "source": [
    "import os\n",
    "dirpath=\"git/\"\n",
    "for i in os"
   ]
  },
  {
   "cell_type": "code",
   "execution_count": 1,
   "metadata": {},
   "outputs": [
    {
     "name": "stdout",
     "output_type": "stream",
     "text": [
      "True\n"
     ]
    }
   ],
   "source": [
    "# isabs function \n",
    "import os \n",
    "out = os.path.isabs(\"/baz/foo\") \n",
    "print(out) \n"
   ]
  },
  {
   "cell_type": "code",
   "execution_count": null,
   "metadata": {},
   "outputs": [],
   "source": []
  }
 ],
 "metadata": {
  "kernelspec": {
   "display_name": "Python 3",
   "language": "python",
   "name": "python3"
  },
  "language_info": {
   "codemirror_mode": {
    "name": "ipython",
    "version": 3
   },
   "file_extension": ".py",
   "mimetype": "text/x-python",
   "name": "python",
   "nbconvert_exporter": "python",
   "pygments_lexer": "ipython3",
   "version": "3.7.3"
  }
 },
 "nbformat": 4,
 "nbformat_minor": 2
}
