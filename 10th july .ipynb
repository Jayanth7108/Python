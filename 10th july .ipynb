{
 "cells": [
  {
   "cell_type": "code",
   "execution_count": 2,
   "metadata": {},
   "outputs": [
    {
     "name": "stdout",
     "output_type": "stream",
     "text": [
      "{'name': 'gitam', 'emailid': 'gitam@gmail.com', 'address': 'rudraram'}\n"
     ]
    }
   ],
   "source": [
    "d1={\"name\":\"gitam\",\"emailid\":\"gitam@gmail.com\",\"address\":\"rudraram\"}\n",
    "print(d1)"
   ]
  },
  {
   "cell_type": "code",
   "execution_count": 3,
   "metadata": {},
   "outputs": [
    {
     "data": {
      "text/plain": [
       "'gitam'"
      ]
     },
     "execution_count": 3,
     "metadata": {},
     "output_type": "execute_result"
    }
   ],
   "source": [
    "d1[\"name\"]"
   ]
  },
  {
   "cell_type": "code",
   "execution_count": 4,
   "metadata": {},
   "outputs": [],
   "source": [
    "d1[\"emailif\"]='gitam-python@gmail.com'"
   ]
  },
  {
   "cell_type": "code",
   "execution_count": 5,
   "metadata": {},
   "outputs": [
    {
     "data": {
      "text/plain": [
       "'gitam@gmail.com'"
      ]
     },
     "execution_count": 5,
     "metadata": {},
     "output_type": "execute_result"
    }
   ],
   "source": [
    "d1[\"emailid\"]"
   ]
  },
  {
   "cell_type": "code",
   "execution_count": 6,
   "metadata": {},
   "outputs": [],
   "source": [
    "del d1[\"emailid\"]#delete the specific key value"
   ]
  },
  {
   "cell_type": "code",
   "execution_count": 9,
   "metadata": {},
   "outputs": [
    {
     "data": {
      "text/plain": [
       "dict_keys(['name', 'address', 'emailif'])"
      ]
     },
     "execution_count": 9,
     "metadata": {},
     "output_type": "execute_result"
    }
   ],
   "source": [
    "d1.keys()"
   ]
  },
  {
   "cell_type": "code",
   "execution_count": 10,
   "metadata": {},
   "outputs": [
    {
     "data": {
      "text/plain": [
       "dict_values(['gitam', 'rudraram', 'gitam-python@gmail.com'])"
      ]
     },
     "execution_count": 10,
     "metadata": {},
     "output_type": "execute_result"
    }
   ],
   "source": [
    "d1.values()"
   ]
  },
  {
   "cell_type": "code",
   "execution_count": 11,
   "metadata": {},
   "outputs": [
    {
     "data": {
      "text/plain": [
       "dict_items([('name', 'gitam'), ('address', 'rudraram'), ('emailif', 'gitam-python@gmail.com')])"
      ]
     },
     "execution_count": 11,
     "metadata": {},
     "output_type": "execute_result"
    }
   ],
   "source": [
    "d1.items()"
   ]
  },
  {
   "cell_type": "markdown",
   "metadata": {},
   "source": [
    "### Tuples\n",
    "* t1 parenthes()li square brackets[]\n",
    "* difference between list and tuples\n",
    "    -\n",
    "    list are mutable  -can be changed/modified\n",
    "     \n",
    "     -used to access modify,add,delete data\n",
    "    \n",
    "    -Tuples are immutable-cannot be changed\n",
    "     \n",
    "     -Used to access data only"
   ]
  },
  {
   "cell_type": "code",
   "execution_count": 12,
   "metadata": {},
   "outputs": [
    {
     "name": "stdout",
     "output_type": "stream",
     "text": [
      "contact details are added\n",
      "contact details are added\n",
      "contact details are added\n"
     ]
    }
   ],
   "source": [
    "contacts={}#creating a dict object\n",
    "def addcontact(name,phone):\n",
    "   if name not in contacts:\n",
    "       contacts[name]=phone\n",
    "       print(\"contact details are added\")\n",
    "   else:\n",
    "       print(\"contact details are already exists\")\n",
    "   return\n",
    "addcontact('bambolah','9398654872')\n",
    "addcontact('jambola','7799538070')\n",
    "addcontact('123456789','123456789')"
   ]
  },
  {
   "cell_type": "code",
   "execution_count": 13,
   "metadata": {},
   "outputs": [
    {
     "name": "stdout",
     "output_type": "stream",
     "text": [
      "bambolah : 9398654872\n",
      "jambola : 7799538070\n",
      "123456789 : 123456789\n"
     ]
    }
   ],
   "source": [
    "#search for contact details\n",
    "def searchContact(name):\n",
    "   if name in contacts:\n",
    "       print(name,\":\",contacts[name])\n",
    "   else:\n",
    "       print(\"%s does not exist\"% name)\n",
    "   return\n",
    "searchContact('bambolah')\n",
    "searchContact('jambola')\n",
    "searchContact('123456789')\n"
   ]
  },
  {
   "cell_type": "code",
   "execution_count": 15,
   "metadata": {},
   "outputs": [
    {
     "name": "stdout",
     "output_type": "stream",
     "text": [
      "2 contacts added successfully\n"
     ]
    }
   ],
   "source": [
    "def importcontact(newcontacts):\n",
    "   contacts.update(newcontacts)\n",
    "   print(len(newcontacts.keys()),\"contacts added successfully\")\n",
    "   return\n",
    "newcontacts={'sudhrrr':9325565545,'amennnnnn':98476564834}\n",
    "importcontact(newcontacts)\n"
   ]
  },
  {
   "cell_type": "code",
   "execution_count": 17,
   "metadata": {},
   "outputs": [
    {
     "name": "stdout",
     "output_type": "stream",
     "text": [
      "sudhrrr : 9325565545\n",
      "amennnnnn : 98476564834\n"
     ]
    }
   ],
   "source": [
    "def searchContact(name):\n",
    "   if name in contacts:\n",
    "       print(name,\":\",contacts[name])\n",
    "   else:\n",
    "       print(\"%s does not exist\"% name)\n",
    "   return\n",
    "searchContact('sudhrrr')\n",
    "searchContact('amennnnnn')\n"
   ]
  },
  {
   "cell_type": "code",
   "execution_count": 19,
   "metadata": {},
   "outputs": [
    {
     "name": "stdout",
     "output_type": "stream",
     "text": [
      "sudhrrr deleted successfully\n"
     ]
    }
   ],
   "source": [
    "#delete a contact\n",
    "def deletecontact(name):\n",
    "   if name in contacts:\n",
    "       del contacts[name]\n",
    "       print(name,\"deleted successfully\")\n",
    "   else:\n",
    "       print(name,\"not exists\")\n",
    "   return\n",
    "deletecontact('sudhrrr')"
   ]
  },
  {
   "cell_type": "code",
   "execution_count": null,
   "metadata": {},
   "outputs": [],
   "source": []
  }
 ],
 "metadata": {
  "kernelspec": {
   "display_name": "Python 3",
   "language": "python",
   "name": "python3"
  },
  "language_info": {
   "codemirror_mode": {
    "name": "ipython",
    "version": 3
   },
   "file_extension": ".py",
   "mimetype": "text/x-python",
   "name": "python",
   "nbconvert_exporter": "python",
   "pygments_lexer": "ipython3",
   "version": "3.7.3"
  }
 },
 "nbformat": 4,
 "nbformat_minor": 2
}
